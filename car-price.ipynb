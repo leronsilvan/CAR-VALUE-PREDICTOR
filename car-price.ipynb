{
 "cells": [
  {
   "cell_type": "code",
   "execution_count": 1,
   "id": "30e130ce",
   "metadata": {},
   "outputs": [
    {
     "name": "stdout",
     "output_type": "stream",
     "text": [
      "0.766393833625326\n"
     ]
    },
    {
     "data": {
      "text/plain": [
       "['car_price_model.pkl']"
      ]
     },
     "execution_count": 1,
     "metadata": {},
     "output_type": "execute_result"
    }
   ],
   "source": [
    "import pandas as pd\n",
    "import numpy as np\n",
    "from sklearn.model_selection import train_test_split\n",
    "from sklearn.preprocessing import OneHotEncoder\n",
    "from sklearn.compose import ColumnTransformer\n",
    "from sklearn.pipeline import Pipeline\n",
    "from sklearn.ensemble import RandomForestRegressor\n",
    "from sklearn.metrics import mean_absolute_error, r2_score\n",
    "\n",
    "# 1. Load data\n",
    "df = pd.read_csv('processes2.csv')\n",
    "df = df[['name', 'year', 'selling_price', 'km_driven', 'fuel', 'transmission', 'owner']]\n",
    "df = df.dropna()\n",
    "\n",
    "# 2. Remove outliers from selling_price\n",
    "Q1 = df['selling_price'].quantile(0.25)\n",
    "Q3 = df['selling_price'].quantile(0.75)\n",
    "IQR = Q3 - Q1\n",
    "df = df[(df['selling_price'] >= Q1 - 1.5*IQR) & (df['selling_price'] <= Q3 + 1.5*IQR)]\n",
    "\n",
    "# 3. Feature engineering\n",
    "df['name'] = df['name'].astype(str).apply(lambda x: \" \".join(x.split()[:2]))\n",
    "df['car_age'] = 2025 - df['year']\n",
    "df = df.drop(['year'], axis=1)\n",
    "\n",
    "# 4. Set features and target\n",
    "X = df.drop('selling_price', axis=1)\n",
    "y = df['selling_price']\n",
    "\n",
    "# 5. Categorical & numeric columns\n",
    "cat_cols = ['name', 'fuel', 'transmission', 'owner']\n",
    "num_cols = ['km_driven', 'car_age']\n",
    "\n",
    "# 6. Preprocessor\n",
    "preprocessor = ColumnTransformer([\n",
    "    ('cat', OneHotEncoder(handle_unknown='ignore'), cat_cols)\n",
    "], remainder='passthrough')\n",
    "\n",
    "# 7. Model pipeline\n",
    "model = Pipeline([\n",
    "    ('preprocess', preprocessor),\n",
    "    ('regressor', RandomForestRegressor(\n",
    "        n_estimators=300,\n",
    "        max_depth=20,\n",
    "        min_samples_split=5,\n",
    "        random_state=42))\n",
    "])\n",
    "\n",
    "# 8. Train-test split\n",
    "X_train, X_test, y_train, y_test = train_test_split(X, y, test_size=0.2, random_state=42)\n",
    "\n",
    "# 9. Train\n",
    "model.fit(X_train, y_train)\n",
    "\n",
    "# 10. Predict & evaluate\n",
    "y_pred = model.predict(X_test)\n",
    "mae = mean_absolute_error(y_test, y_pred)\n",
    "r2 = r2_score(y_test, y_pred)\n",
    "\n",
    "print(r2)\n",
    "import joblib\n",
    "\n",
    "joblib.dump(model, 'car_price_model.pkl')\n"
   ]
  }
 ],
 "metadata": {
  "kernelspec": {
   "display_name": ".venv",
   "language": "python",
   "name": "python3"
  },
  "language_info": {
   "codemirror_mode": {
    "name": "ipython",
    "version": 3
   },
   "file_extension": ".py",
   "mimetype": "text/x-python",
   "name": "python",
   "nbconvert_exporter": "python",
   "pygments_lexer": "ipython3",
   "version": "3.10.18"
  }
 },
 "nbformat": 4,
 "nbformat_minor": 5
}
